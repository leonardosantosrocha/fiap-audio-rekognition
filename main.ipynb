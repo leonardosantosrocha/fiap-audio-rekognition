{
 "cells": [
  {
   "cell_type": "markdown",
   "metadata": {},
   "source": [
    "#### Instala os módulos necessários"
   ]
  },
  {
   "cell_type": "code",
   "execution_count": null,
   "metadata": {},
   "outputs": [],
   "source": [
    "%pip install gTTS\n",
    "%pip install os\n",
    "%pip install playsound\n",
    "%pip install warnings\n",
    "%pip install google-cloud-speech"
   ]
  },
  {
   "cell_type": "markdown",
   "metadata": {},
   "source": [
    "#### Importa os módulos necessários"
   ]
  },
  {
   "cell_type": "code",
   "execution_count": 2,
   "metadata": {},
   "outputs": [],
   "source": [
    "from google.oauth2 import service_account\n",
    "from google.cloud import speech\n",
    "from gtts import gTTS\n",
    "from playsound import playsound\n",
    "import warnings"
   ]
  },
  {
   "cell_type": "markdown",
   "metadata": {},
   "source": [
    "#### Ignora warnings que serão gerados"
   ]
  },
  {
   "cell_type": "code",
   "execution_count": 3,
   "metadata": {},
   "outputs": [],
   "source": [
    "warnings.filterwarnings(\"ignore\")"
   ]
  },
  {
   "cell_type": "markdown",
   "metadata": {},
   "source": [
    "#### Definição da função para converter texto em áudio"
   ]
  },
  {
   "cell_type": "code",
   "execution_count": 4,
   "metadata": {},
   "outputs": [],
   "source": [
    "def text_to_speech(sentences : list, audio_file_path : str) -> None:\n",
    "    \"\"\"\n",
    "    A função converte uma lista de textos escritos em português (brasileiro) e converte em arquivos MP3 em português (brasileiro).\n",
    "    \n",
    "    Args:\n",
    "        sentences (list): Lista de textos.\n",
    "        directory (str): Nome do diretório onde serão salvos os arquivos de áudio.\n",
    "    \"\"\"\n",
    "\n",
    "    counter = 0 \n",
    "\n",
    "    for sentence in sentences:\n",
    "        audio = gTTS(text=sentence, lang=\"pt\", slow=False)\n",
    "        audio.save(f\"./audio/{audio_file_path}/{counter}.mp3\")\n",
    "        print(f'\\nArquivo MP3 salvo no diretório: \"./audio/{audio_file_path}/{counter}.mp3\".')\n",
    "        counter += 1"
   ]
  },
  {
   "cell_type": "markdown",
   "metadata": {},
   "source": [
    "#### Definição da função para converter áudio em texto"
   ]
  },
  {
   "cell_type": "code",
   "execution_count": 5,
   "metadata": {},
   "outputs": [],
   "source": [
    "def speech_to_text(audio_file_path : str) -> str:\n",
    "    \"\"\"\n",
    "    A função recebe um arquivo MP3 em português (brasileiro) e retorna o conteúdo do áudio convertido em texto.\n",
    "\n",
    "    Args:\n",
    "        audio_file_path (str): Nome do diretório onde o arquivo MP3 foi armazenado.\n",
    "\n",
    "    Returns:\n",
    "        str: Transcrição de áudio de arquivos MP3.\n",
    "    \"\"\"\n",
    "\n",
    "    # Realiza a autenticação e inicializa a comunicação com a API da Google Cloud Platform\n",
    "    json_file_path = \"/home/leonardo/workspace/keys/google_access_key.json\"\n",
    "    credentials = service_account.Credentials.from_service_account_file(json_file_path)\n",
    "    client = speech.SpeechClient(credentials=credentials)\n",
    "    \n",
    "    # Abre o arquivo MP3 como binário e armazena o seu conteúdo na variável \"content\"\n",
    "    with open(audio_file_path, \"rb\") as audio_file:\n",
    "        content = audio_file.read()\n",
    "\n",
    "    # Processa o conteúdo da variável \"content\" com o módulo de TTS\n",
    "    audio = speech.RecognitionAudio(content=content)\n",
    "\n",
    "    # Define as configurações de reconhecimento de falar (formato, qualidade e idioma do áudio)    \n",
    "    config = speech.RecognitionConfig(\n",
    "        encoding=speech.RecognitionConfig.AudioEncoding.MP3,\n",
    "        sample_rate_hertz=44100,\n",
    "        language_code=\"pt-BR\",\n",
    "    )\n",
    "\n",
    "    # Informa a configuração e o áudio a ser convertido para texto usando a API\n",
    "    response = client.recognize(config=config, audio=audio)\n",
    "\n",
    "    # Retorna o resultado da API\n",
    "    for result in response.results:\n",
    "        return result.alternatives[0].transcript"
   ]
  },
  {
   "cell_type": "markdown",
   "metadata": {},
   "source": [
    "#### Definição dos diretórios dos arquivos"
   ]
  },
  {
   "cell_type": "code",
   "execution_count": 6,
   "metadata": {},
   "outputs": [],
   "source": [
    "%%bash \n",
    "rm -rf audio*\n",
    "sleep 3\n",
    "mkdir audio audio/central audio/customer"
   ]
  },
  {
   "cell_type": "markdown",
   "metadata": {},
   "source": [
    "#### Gravação das falas da central de atendimento e do cliente"
   ]
  },
  {
   "cell_type": "code",
   "execution_count": 7,
   "metadata": {},
   "outputs": [
    {
     "name": "stdout",
     "output_type": "stream",
     "text": [
      "\n",
      "Arquivo MP3 salvo no diretório: \"./audio/central/0.mp3\".\n",
      "\n",
      "Arquivo MP3 salvo no diretório: \"./audio/central/1.mp3\".\n",
      "\n",
      "Arquivo MP3 salvo no diretório: \"./audio/central/2.mp3\".\n",
      "\n",
      "Arquivo MP3 salvo no diretório: \"./audio/central/3.mp3\".\n",
      "\n",
      "Arquivo MP3 salvo no diretório: \"./audio/central/4.mp3\".\n",
      "\n",
      "Arquivo MP3 salvo no diretório: \"./audio/central/5.mp3\".\n",
      "\n",
      "Arquivo MP3 salvo no diretório: \"./audio/central/6.mp3\".\n",
      "\n",
      "Arquivo MP3 salvo no diretório: \"./audio/central/7.mp3\".\n",
      "\n",
      "Arquivo MP3 salvo no diretório: \"./audio/central/8.mp3\".\n",
      "\n",
      "Arquivo MP3 salvo no diretório: \"./audio/central/9.mp3\".\n",
      "\n",
      "Arquivo MP3 salvo no diretório: \"./audio/central/10.mp3\".\n",
      "\n",
      "Arquivo MP3 salvo no diretório: \"./audio/central/11.mp3\".\n",
      "\n",
      "Arquivo MP3 salvo no diretório: \"./audio/central/12.mp3\".\n",
      "\n",
      "Arquivo MP3 salvo no diretório: \"./audio/customer/0.mp3\".\n",
      "\n",
      "Arquivo MP3 salvo no diretório: \"./audio/customer/1.mp3\".\n",
      "\n",
      "Arquivo MP3 salvo no diretório: \"./audio/customer/2.mp3\".\n",
      "\n",
      "Arquivo MP3 salvo no diretório: \"./audio/customer/3.mp3\".\n"
     ]
    }
   ],
   "source": [
    "central_phrases = [\n",
    "    \"Olá, você entrou em contato com o Banco de Konoha!\", \n",
    "    \n",
    "    \"Para consultar o saldo em conta, diga saldo em conta.\", \n",
    "    \"Você escolheu a opção consultar saldo em conta.\", \n",
    "    \"O seu saldo em conta é cinco mil reais.\",\n",
    "    \n",
    "    \"Para simular uma compra internacional, diga compra internacional.\", \n",
    "    \"Você escolheu a opção simular uma compra internacional.\", \n",
    "    \"Infelizmente a opção não está disponível no momento, pedimos que tente novamente mais tarde.\",\n",
    "    \n",
    "    \"Para falar com um de nossos atendentes, diga falar com atendimento.\", \n",
    "    \"Você escolheu a opção falar com um de nossos atendentes.\", \n",
    "    \"Aguarde enquanto encaminhamos você para um de nossos atendentes.\",\n",
    "\n",
    "    \"Caso queira encerrar a ligação, diga encerrar ligação.\",\n",
    "    \"Vocẽ escolheu a opção encerrar a ligação.\",\n",
    "    \"A ligação será encerrada nos próximos segundos.\"]\n",
    "\n",
    "text_to_speech(central_phrases, \"central\")\n",
    "\n",
    "\n",
    "customer_phrases = [\n",
    "    \"Saldo em conta.\", \n",
    "    \n",
    "    \"Compra internacional.\", \n",
    "    \n",
    "    \"Falar com atendimento.\", \n",
    "    \n",
    "    \"Encerrar ligação.\"]\n",
    "\n",
    "text_to_speech(customer_phrases, \"customer\")"
   ]
  },
  {
   "cell_type": "markdown",
   "metadata": {},
   "source": [
    "#### Simulação de interação do cliente com a central de atendimento"
   ]
  },
  {
   "cell_type": "code",
   "execution_count": 8,
   "metadata": {},
   "outputs": [],
   "source": [
    "def simulate(customer_choice : str) -> None:\n",
    "    # Central de atendimento informa as opções disponíveis\n",
    "    for option in [0, 1, 4, 7, 10]:\n",
    "        playsound(f\"audio/central/{option}.mp3\")\n",
    "        reading = speech_to_text(f\"audio/central/{option}.mp3\").capitalize()\n",
    "        print(f\"Central\\n-> {reading}.\")\n",
    "\n",
    "    # Cliente seleciona uma das opções\n",
    "    playsound(f\"audio/customer/{customer_choice}.mp3\")\n",
    "    answer = speech_to_text(f\"audio/customer/{customer_choice}.mp3\").capitalize()\n",
    "    print(f\"\\nCliente\\n-> {answer}.\")\n",
    "\n",
    "    # Lógica para reprodução dos aúdios\n",
    "    if answer == \"Saldo em conta\":\n",
    "        playsound(\"audio/central/2.mp3\")\n",
    "        playsound(\"audio/central/3.mp3\")\n",
    "        reading_a = speech_to_text(f\"audio/central/2.mp3\").capitalize()\n",
    "        reading_b = speech_to_text(f\"audio/central/3.mp3\").capitalize()\n",
    "        print(f\"\\nCentral\\n-> {reading_a}.\")\n",
    "        print(f\"Central\\n-> {reading_b}.\")\n",
    "    \n",
    "    elif answer == \"Compra internacional\":\n",
    "        playsound(\"audio/central/5.mp3\")\n",
    "        playsound(\"audio/central/6.mp3\")\n",
    "        reading_a = speech_to_text(f\"audio/central/5.mp3\").capitalize()\n",
    "        reading_b = speech_to_text(f\"audio/central/6.mp3\").capitalize()\n",
    "        print(f\"\\nCentral\\n-> {reading_a}.\")\n",
    "        print(f\"Central\\n-> {reading_b}.\")\n",
    "\n",
    "    elif answer == \"Falar com atendimento\":\n",
    "        playsound(\"audio/central/8.mp3\")\n",
    "        playsound(\"audio/central/9.mp3\")\n",
    "        reading_a = speech_to_text(f\"audio/central/8.mp3\").capitalize()\n",
    "        reading_b = speech_to_text(f\"audio/central/9.mp3\").capitalize()\n",
    "        print(f\"\\nCentral\\n-> {reading_a}.\")\n",
    "        print(f\"Central\\n-> {reading_b}.\")\n",
    "    \n",
    "    else:\n",
    "        playsound(\"audio/central/11.mp3\")\n",
    "        playsound(\"audio/central/12.mp3\")\n",
    "        reading_a = speech_to_text(f\"audio/central/11.mp3\").capitalize()\n",
    "        reading_b = speech_to_text(f\"audio/central/12.mp3\").capitalize()\n",
    "        print(f\"\\nCentral\\n-> {reading_a}.\")\n",
    "        print(f\"Central\\n-> {reading_b}.\")"
   ]
  },
  {
   "cell_type": "markdown",
   "metadata": {},
   "source": [
    "Caso de uso: saldo em conta"
   ]
  },
  {
   "cell_type": "code",
   "execution_count": 9,
   "metadata": {},
   "outputs": [
    {
     "name": "stdout",
     "output_type": "stream",
     "text": [
      "Central\n",
      "-> Olá você entrou em contato com o banco de conoha.\n",
      "Central\n",
      "-> Para consultar o saldo em conta diga saldo em conta.\n",
      "Central\n",
      "-> Para simular uma compra internacional diga compra internacional.\n",
      "Central\n",
      "-> Para falar com um de nossos atendentes diga falar com atendimento.\n",
      "Central\n",
      "-> Caso queira encerrar a ligação diga encerrar ligação.\n",
      "\n",
      "Cliente\n",
      "-> Saldo em conta.\n",
      "\n",
      "Central\n",
      "-> Você escolheu a opção consultar saldo em conta.\n",
      "Central\n",
      "-> O seu saldo em conta é r$ 5000.\n"
     ]
    }
   ],
   "source": [
    "simulate(\"0\")"
   ]
  },
  {
   "cell_type": "markdown",
   "metadata": {},
   "source": [
    "Caso de uso: compra internacional"
   ]
  },
  {
   "cell_type": "code",
   "execution_count": 10,
   "metadata": {},
   "outputs": [
    {
     "name": "stdout",
     "output_type": "stream",
     "text": [
      "Central\n",
      "-> Olá você entrou em contato com o banco de conoha.\n",
      "Central\n",
      "-> Para consultar o saldo em conta diga saldo em conta.\n",
      "Central\n",
      "-> Para simular uma compra internacional diga compra internacional.\n",
      "Central\n",
      "-> Para falar com um de nossos atendentes diga falar com atendimento.\n",
      "Central\n",
      "-> Caso queira encerrar a ligação diga encerrar ligação.\n",
      "\n",
      "Cliente\n",
      "-> Compra internacional.\n",
      "\n",
      "Central\n",
      "-> Você escolheu a opção simular uma compra internacional.\n",
      "Central\n",
      "-> Infelizmente a opção não está disponível no momento pedimos que tente novamente mais tarde.\n"
     ]
    }
   ],
   "source": [
    "simulate(\"1\")"
   ]
  },
  {
   "cell_type": "markdown",
   "metadata": {},
   "source": [
    "Caso de uso: falar com atendimento"
   ]
  },
  {
   "cell_type": "code",
   "execution_count": 11,
   "metadata": {},
   "outputs": [
    {
     "name": "stdout",
     "output_type": "stream",
     "text": [
      "Central\n",
      "-> Olá você entrou em contato com o banco de conoha.\n",
      "Central\n",
      "-> Para consultar o saldo em conta diga saldo em conta.\n",
      "Central\n",
      "-> Para simular uma compra internacional diga compra internacional.\n",
      "Central\n",
      "-> Para falar com um de nossos atendentes diga falar com atendimento.\n",
      "Central\n",
      "-> Caso queira encerrar a ligação diga encerrar ligação.\n",
      "\n",
      "Cliente\n",
      "-> Falar com atendimento.\n",
      "\n",
      "Central\n",
      "-> Você escolheu a opção falar com um de nossos atendentes.\n",
      "Central\n",
      "-> Aguarde enquanto encaminhamos você para um de nossos atendentes.\n"
     ]
    }
   ],
   "source": [
    "simulate(\"2\")"
   ]
  },
  {
   "cell_type": "markdown",
   "metadata": {},
   "source": [
    "Caso de uso: encerrar ligação"
   ]
  },
  {
   "cell_type": "code",
   "execution_count": 12,
   "metadata": {},
   "outputs": [
    {
     "name": "stdout",
     "output_type": "stream",
     "text": [
      "Central\n",
      "-> Olá você entrou em contato com o banco de conoha.\n",
      "Central\n",
      "-> Para consultar o saldo em conta diga saldo em conta.\n",
      "Central\n",
      "-> Para simular uma compra internacional diga compra internacional.\n",
      "Central\n",
      "-> Para falar com um de nossos atendentes diga falar com atendimento.\n",
      "Central\n",
      "-> Caso queira encerrar a ligação diga encerrar ligação.\n",
      "\n",
      "Cliente\n",
      "-> Encerrar ligação.\n",
      "\n",
      "Central\n",
      "-> Você escolheu a opção encerrar a ligação.\n",
      "Central\n",
      "-> A ligação será encerrada nos próximos segundos.\n"
     ]
    }
   ],
   "source": [
    "simulate(\"3\")"
   ]
  }
 ],
 "metadata": {
  "kernelspec": {
   "display_name": "Python 3",
   "language": "python",
   "name": "python3"
  },
  "language_info": {
   "codemirror_mode": {
    "name": "ipython",
    "version": 3
   },
   "file_extension": ".py",
   "mimetype": "text/x-python",
   "name": "python",
   "nbconvert_exporter": "python",
   "pygments_lexer": "ipython3",
   "version": "3.10.12"
  }
 },
 "nbformat": 4,
 "nbformat_minor": 2
}
